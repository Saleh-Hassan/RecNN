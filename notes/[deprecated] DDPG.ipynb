{
 "cells": [
  {
   "cell_type": "markdown",
   "metadata": {},
   "source": [
    "\n"
   ]
  },
  {
   "cell_type": "code",
   "execution_count": 12,
   "metadata": {},
   "outputs": [],
   "source": [
    "import torch\n",
    "from torch.utils.data import Dataset, DataLoader\n",
    "import torch.nn as nn\n",
    "import torch.nn.functional as F\n",
    "import torch.optim as optim\n",
    "from torch.distributions import Normal\n",
    "\n",
    "import numpy as np\n",
    "import pandas as pd\n",
    "from tqdm import tqdm_notebook as tqdm\n",
    "import pickle\n",
    "\n",
    "cuda = torch.device('cuda')\n",
    "frame_size = 10"
   ]
  },
  {
   "cell_type": "code",
   "execution_count": 13,
   "metadata": {},
   "outputs": [],
   "source": [
    "ratings = pickle.load(open('../data/ratings_pos_11.pkl', 'rb'))\n",
    "movies = torch.load('../data/enc_emb_pca.pt')\n",
    "movies = dict([i, u] for i, u in enumerate(movies))\n",
    "users =list(ratings.keys())\n",
    "id_to_index = dict([(u, i) for i, u in enumerate(pd.read_csv('../data/ml-20m/movies.csv')['movieId'].values)])"
   ]
  },
  {
   "cell_type": "code",
   "execution_count": 14,
   "metadata": {},
   "outputs": [],
   "source": [
    "class ML20mDataset(Dataset):\n",
    "    def __init__(self):\n",
    "        self.set_dataset(1)\n",
    "    \n",
    "    def set_dataset(self, u):\n",
    "        self.user = u\n",
    "        self.dataset = ratings[u]\n",
    "        \n",
    "    def __len__(self):\n",
    "        return max(len(self.dataset) - frame_size, 0)\n",
    "    \n",
    "    def __getitem__(self, idx):\n",
    "        ratings = self.dataset[idx:frame_size+idx+1]\n",
    "        movie_chosen = ratings[:, 0][-1]\n",
    "        films_watched = ratings[:, 0][:-1]\n",
    "        \n",
    "        films_lookup = torch.stack([movies[id_to_index[i]] for i in ratings[:, 0]])\n",
    "        \n",
    "        state = films_lookup[:-1].to(cuda).float()\n",
    "        next_state = films_lookup[1:].to(cuda).float()\n",
    "        \n",
    "        rewards = torch.tensor(ratings[:, 1][:frame_size]).to(cuda).float()\n",
    "        next_rewards = torch.tensor(ratings[:, 1][1:frame_size+1]).to(cuda).float()\n",
    "        \n",
    "        action = films_lookup[-1].to(cuda)\n",
    "        \n",
    "        reward = torch.tensor(ratings[:, 1][-1].tolist()).to(cuda).float()\n",
    "        done = torch.tensor(idx == self.__len__() - 1).to(cuda).float()\n",
    "        \n",
    "        state = (state, rewards)\n",
    "        next_state = (next_state, next_rewards)\n",
    "        \n",
    "        return state, action, reward, next_state, done"
   ]
  },
  {
   "cell_type": "code",
   "execution_count": 15,
   "metadata": {},
   "outputs": [],
   "source": [
    "dset = ML20mDataset()"
   ]
  },
  {
   "cell_type": "code",
   "execution_count": 16,
   "metadata": {},
   "outputs": [],
   "source": [
    "class StateRepresentation(nn.Module):\n",
    "    def __init__(self, frame_size):\n",
    "        super(StateRepresentation, self).__init__()\n",
    "        self.frame_size = frame_size\n",
    "        self.state_lin = nn.Sequential(\n",
    "            # 33 = embed_size + rating\n",
    "            nn.Linear(self.frame_size * (64 + 1), 64),\n",
    "            nn.Tanh()\n",
    "        ).to(cuda)\n",
    "        \n",
    "    def forward(self, info, rewards):\n",
    "        rewards = torch.unsqueeze(rewards, 2)\n",
    "        state = torch.cat([info, rewards],2)\n",
    "        state = state.view(state.size(0), -1)\n",
    "        state = self.state_lin(state)\n",
    "        return state"
   ]
  },
  {
   "cell_type": "code",
   "execution_count": 17,
   "metadata": {},
   "outputs": [],
   "source": [
    "class Actor(nn.Module):\n",
    "    def __init__(self, num_inputs, num_actions, hidden_size, frame_size, init_w=3e-3):\n",
    "        super(Actor, self).__init__()\n",
    "        \n",
    "        self.frame_size = frame_size\n",
    "        self.state_rep = StateRepresentation(frame_size)\n",
    "        \n",
    "        self.linear1 = nn.Linear(num_inputs, hidden_size)\n",
    "        self.linear2 = nn.Linear(hidden_size, hidden_size)\n",
    "        self.linear3 = nn.Linear(hidden_size, num_actions)\n",
    "        \n",
    "        self.linear3.weight.data.uniform_(-init_w, init_w)\n",
    "        self.linear3.bias.data.uniform_(-init_w, init_w)\n",
    "        \n",
    "    def forward(self, info, rewards):\n",
    "        state = self.state_rep(info, rewards)\n",
    "        x = F.relu(self.linear1(state))\n",
    "        x = F.relu(self.linear2(x))\n",
    "        x = F.tanh(self.linear3(x))\n",
    "        return state, x\n",
    "    \n",
    "    def get_action(self, info, rewards):\n",
    "        state, action = self.forward(info, rewards)\n",
    "        return state, action"
   ]
  },
  {
   "cell_type": "code",
   "execution_count": 18,
   "metadata": {},
   "outputs": [],
   "source": [
    "class Critic(nn.Module):\n",
    "    def __init__(self, num_inputs, num_actions, hidden_size, init_w=3e-3):\n",
    "        super(Critic, self).__init__()\n",
    "        \n",
    "        self.linear1 = nn.Linear(num_inputs + num_actions, hidden_size)\n",
    "        self.linear2 = nn.Linear(hidden_size, hidden_size)\n",
    "        self.linear3 = nn.Linear(hidden_size, 1)\n",
    "        \n",
    "        self.linear3.weight.data.uniform_(-init_w, init_w)\n",
    "        self.linear3.bias.data.uniform_(-init_w, init_w)\n",
    "        \n",
    "    def forward(self, state, action):\n",
    "        action = torch.squeeze(action)\n",
    "        x = torch.cat([state, action], 1)\n",
    "        x = F.relu(self.linear1(x))\n",
    "        x = F.relu(self.linear2(x))\n",
    "        x = self.linear3(x)\n",
    "        return x"
   ]
  },
  {
   "cell_type": "code",
   "execution_count": 19,
   "metadata": {},
   "outputs": [],
   "source": [
    "import numpy as np\n",
    "class OUNoise(object):\n",
    "    def __init__(self, action_space, mu=0.0, theta=0.15, max_sigma=0.3, min_sigma=0.3, decay_period=100000):\n",
    "        self.mu           = mu\n",
    "        self.theta        = theta\n",
    "        self.sigma        = max_sigma\n",
    "        self.max_sigma    = max_sigma\n",
    "        self.min_sigma    = min_sigma\n",
    "        self.decay_period = decay_period\n",
    "        self.action_dim   = 64\n",
    "        self.low          = -1\n",
    "        self.high         = 1\n",
    "        self.reset()\n",
    "        \n",
    "    def reset(self):\n",
    "        self.state = np.ones(self.action_dim) * self.mu\n",
    "        \n",
    "    def evolve_state(self):\n",
    "        x  = self.state\n",
    "        dx = self.theta * (self.mu - x) + self.sigma * np.random.randn(self.action_dim)\n",
    "        self.state = x + dx\n",
    "        return self.state\n",
    "    \n",
    "    def get_action(self, action, t=0):\n",
    "        ou_state = self.evolve_state()\n",
    "        self.sigma = self.max_sigma - (self.max_sigma - self.min_sigma) * min(1.0, t / self.decay_period)\n",
    "        return np.clip(action + ou_state, self.low, self.high)"
   ]
  },
  {
   "cell_type": "code",
   "execution_count": 20,
   "metadata": {},
   "outputs": [],
   "source": [
    "def ddpg_update(batch, \n",
    "           gamma = 0.99,\n",
    "           min_value=-5,\n",
    "           max_value=5,\n",
    "           soft_tau=1e-2):\n",
    "    \n",
    "    state, action, reward, next_state, done = batch\n",
    "    \n",
    "    reward     = reward.unsqueeze(1)\n",
    "    done       = done.unsqueeze(1)\n",
    "    \n",
    "    enc_state, current_action = policy_net(*state)\n",
    "    \n",
    "    policy_loss = value_net(enc_state, current_action)\n",
    "    policy_loss = -policy_loss.mean()\n",
    "\n",
    "    enc_next_state, next_action = target_policy_net(*next_state)\n",
    "    target_value   = target_value_net(enc_next_state, next_action.detach())\n",
    "    expected_value = reward + (1.0 - done) * gamma * target_value\n",
    "    expected_value = torch.clamp(expected_value, min_value, max_value)\n",
    "\n",
    "    value = value_net(enc_state, action)\n",
    "    \n",
    "    value_loss = value_criterion(value, expected_value.detach())\n",
    "\n",
    "    policy_optimizer.zero_grad()\n",
    "    policy_loss.backward(retain_graph=True)\n",
    "    policy_optimizer.step()\n",
    "\n",
    "    value_optimizer.zero_grad()\n",
    "    value_loss.backward(retain_graph=True)\n",
    "    value_optimizer.step()\n",
    "\n",
    "    for target_param, param in zip(target_value_net.parameters(), value_net.parameters()):\n",
    "            target_param.data.copy_(\n",
    "                target_param.data * (1.0 - soft_tau) + param.data * soft_tau\n",
    "            )\n",
    "\n",
    "    for target_param, param in zip(target_policy_net.parameters(), policy_net.parameters()):\n",
    "            target_param.data.copy_(\n",
    "                target_param.data * (1.0 - soft_tau) + param.data * soft_tau\n",
    "            )\n",
    "    return value_loss.item(), policy_loss.item()"
   ]
  },
  {
   "cell_type": "code",
   "execution_count": 21,
   "metadata": {},
   "outputs": [],
   "source": [
    "ou_noise = OUNoise(64)\n",
    "\n",
    "value_net  = Critic(64,64, 128).to(cuda)\n",
    "policy_net = Actor(64, 64, 128, 10).to(cuda)\n",
    "\n",
    "target_value_net  = Critic(64,64,128).to(cuda)\n",
    "target_policy_net = Actor(64,64, 128, 10).to(cuda)\n",
    "\n",
    "for target_param, param in zip(target_value_net.parameters(), value_net.parameters()):\n",
    "    target_param.data.copy_(param.data)\n",
    "\n",
    "for target_param, param in zip(target_policy_net.parameters(), policy_net.parameters()):\n",
    "    target_param.data.copy_(param.data)\n",
    "    \n",
    "    \n",
    "value_lr  = 1e-4\n",
    "policy_lr = 1e-5\n",
    "\n",
    "value_optimizer  = optim.Adam(value_net.parameters(),  lr=value_lr)\n",
    "policy_optimizer = optim.Adam(policy_net.parameters(), lr=policy_lr)\n",
    "\n",
    "value_criterion = nn.MSELoss()"
   ]
  },
  {
   "cell_type": "code",
   "execution_count": null,
   "metadata": {
    "scrolled": true
   },
   "outputs": [
    {
     "name": "stderr",
     "output_type": "stream",
     "text": [
      "WARNING:root:Setting up a new session...\n"
     ]
    },
    {
     "data": {
      "application/vnd.jupyter.widget-view+json": {
       "model_id": "6f14598ea379412f9ee5260bee13869e",
       "version_major": 2,
       "version_minor": 0
      },
      "text/plain": [
       "HBox(children=(IntProgress(value=0, max=10), HTML(value='')))"
      ]
     },
     "metadata": {},
     "output_type": "display_data"
    },
    {
     "data": {
      "application/vnd.jupyter.widget-view+json": {
       "model_id": "3eaf9577e2814c448eca68dfabc16a5d",
       "version_major": 2,
       "version_minor": 0
      },
      "text/plain": [
       "HBox(children=(IntProgress(value=0, max=127503), HTML(value='')))"
      ]
     },
     "metadata": {},
     "output_type": "display_data"
    },
    {
     "name": "stderr",
     "output_type": "stream",
     "text": [
      "C:\\ProgramData\\Anaconda3\\lib\\site-packages\\torch\\nn\\functional.py:995: UserWarning: nn.functional.tanh is deprecated. Use torch.tanh instead.\n",
      "  warnings.warn(\"nn.functional.tanh is deprecated. Use torch.tanh instead.\")\n"
     ]
    }
   ],
   "source": [
    "import visdom\n",
    "v = visdom.Visdom()\n",
    "assert v.check_connection()\n",
    "\n",
    "\n",
    "value_plot = v.line([0], X=[0], opts=dict(title=\"value_loss\", ))\n",
    "policy_plot = v.line([0], X=[0], opts=dict(title=\"policy_loss\", ))\n",
    "\n",
    "v_loss, p_loss = [], []\n",
    "gstep = 0\n",
    "\n",
    "b_size = 100\n",
    "n_epochs = 10\n",
    "\n",
    "def form_batch(batch_list):\n",
    "    b = []\n",
    "    for i in batch_list:\n",
    "        if isinstance(i[0], tuple):\n",
    "            b.append((\n",
    "                torch.stack([t[0] for t in i]).to(cuda),\n",
    "                torch.stack([t[1] for t in i]).to(cuda)\n",
    "            ))\n",
    "        else:\n",
    "            b.append(torch.stack(i).to(cuda))\n",
    "    return b\n",
    "\n",
    "current_batch = [[] for i in range(5)]\n",
    "\n",
    "epoch_bar = tqdm(total=n_epochs)\n",
    "batch_bar = tqdm(total=len(users))\n",
    "\n",
    "for batch in range(10):\n",
    "    epoch_bar.refresh()\n",
    "    #target_policy_net.load_state_dict(torch.load(\"../models/target_policy.pt\"))\n",
    "    #target_value_net.load_state_dict(torch.load(\"../models/target_value.pt\"))\n",
    "    \n",
    "    for u in users:\n",
    "        dset.set_dataset(u)\n",
    "        batch_bar.update(1)\n",
    "        for b in range(len(dset)):\n",
    "            if np.random.rand() > 0.2: #intake percents\n",
    "                continue\n",
    "            minibatch = dset[b]\n",
    "            [current_batch[i].append(minibatch[i]) for i in range(5)]\n",
    "            if len(current_batch[0]) >= b_size:\n",
    "                current_batch = form_batch(current_batch)\n",
    "                value_loss, policy_loss = ddpg_update(current_batch)\n",
    "                v_loss.append(value_loss)\n",
    "                p_loss.append(policy_loss)\n",
    "                v.line(np.array([value_loss]), X=[gstep], win=value_plot, update='append')\n",
    "                v.line(np.array([policy_loss]), X=[gstep], win=policy_plot, update='append')\n",
    "                gstep += 1\n",
    "                current_batch = [[] for i in range(5)]\n",
    "                \n",
    "    epoch_bar.update(1)\n",
    "    torch.save(target_policy_net.state_dict(), \"../models/target_policy.pt\")\n",
    "    torch.save(target_value_net.state_dict(), \"../models/target_value.pt\")"
   ]
  },
  {
   "cell_type": "code",
   "execution_count": 19,
   "metadata": {},
   "outputs": [
    {
     "data": {
      "text/plain": [
       "Text(0.5,1,'Policy loss')"
      ]
     },
     "execution_count": 19,
     "metadata": {},
     "output_type": "execute_result"
    },
    {
     "data": {
      "image/png": "[encoded data removed]",
      "text/plain": [
       "<Figure size 432x288 with 2 Axes>"
      ]
     },
     "metadata": {
      "needs_background": "light"
     },
     "output_type": "display_data"
    }
   ],
   "source": [
    "import matplotlib.pyplot as plt\n",
    "%matplotlib inline\n",
    "\n",
    "f, (ax1, ax2) = plt.subplots(1, 2)\n",
    "ax1.plot(range(len(v_loss)), v_loss)\n",
    "ax1.set_title('Value loss')\n",
    "ax2.plot(range(len(p_loss)), p_loss)\n",
    "ax2.set_title('Policy loss')"
   ]
  },
  {
   "cell_type": "code",
   "execution_count": 3,
   "metadata": {},
   "outputs": [],
   "source": [
    "'''\n",
    "to_delete = []\n",
    "for i in ratings.keys():\n",
    "    ratings[i] = ratings[i][ratings[i][:,1] >= 0]\n",
    "    if len(ratings[i]) < 11:\n",
    "        to_delete.append(i)\n",
    "        \n",
    "for i in to_delete:\n",
    "    del ratings[i]\n",
    "    \n",
    "pickle.dump(ratings, open('../data/ratings_pos_11.pkl', 'wb'))\n",
    "'''"
   ]
  },
  {
   "cell_type": "code",
   "execution_count": null,
   "metadata": {},
   "outputs": [],
   "source": []
  },
  {
   "cell_type": "code",
   "execution_count": null,
   "metadata": {},
   "outputs": [],
   "source": []
  },
  {
   "cell_type": "code",
   "execution_count": null,
   "metadata": {},
   "outputs": [],
   "source": []
  }
 ],
 "metadata": {
  "kernelspec": {
   "display_name": "Python 3",
   "language": "python",
   "name": "python3"
  },
  "language_info": {
   "codemirror_mode": {
    "name": "ipython",
    "version": 3
   },
   "file_extension": ".py",
   "mimetype": "text/x-python",
   "name": "python",
   "nbconvert_exporter": "python",
   "pygments_lexer": "ipython3",
   "version": "3.7.1"
  }
 },
 "nbformat": 4,
 "nbformat_minor": 2
}
