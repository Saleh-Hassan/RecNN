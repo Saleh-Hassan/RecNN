{
 "cells": [
  {
   "cell_type": "code",
   "execution_count": 1,
   "metadata": {},
   "outputs": [],
   "source": [
    "import torch\n",
    "from torch.utils.data import Dataset, DataLoader\n",
    "import torch.nn as nn\n",
    "import torch.nn.functional as F\n",
    "import torch.optim as optim\n",
    "from torch.distributions import Normal\n",
    "\n",
    "import numpy as np\n",
    "import pandas as pd\n",
    "from tqdm import tqdm_notebook as tqdm\n",
    "import pickle\n",
    "\n",
    "device = torch.device('cuda')\n",
    "cuda = torch.device('cuda')\n",
    "frame_size = 10"
   ]
  },
  {
   "cell_type": "code",
   "execution_count": 2,
   "metadata": {},
   "outputs": [],
   "source": [
    "ratings = pickle.load(open('../data/ratings_pos_11.pkl', 'rb'))\n",
    "movies = torch.load('../data/enc_emb.pt')\n",
    "movies = dict([i, u] for i, u in enumerate(movies))\n",
    "users =list(ratings.keys())\n",
    "id_to_index = dict([(u, i) for i, u in enumerate(pd.read_csv('../data/ml-20m/movies.csv')['movieId'].values)])"
   ]
  },
  {
   "cell_type": "code",
   "execution_count": 3,
   "metadata": {},
   "outputs": [],
   "source": [
    "class ML20mDataset(Dataset):\n",
    "    def __init__(self):\n",
    "        self.set_dataset(1)\n",
    "    \n",
    "    def set_dataset(self, u):\n",
    "        self.user = u\n",
    "        self.dataset = ratings[u]\n",
    "        \n",
    "    def __len__(self):\n",
    "        return max(len(self.dataset) - frame_size, 0)\n",
    "    \n",
    "    def __getitem__(self, idx):\n",
    "        ratings = self.dataset[idx:frame_size+idx+1]\n",
    "        movie_chosen = ratings[:, 0][-1]\n",
    "        films_watched = ratings[:, 0][:-1]\n",
    "        \n",
    "        films_lookup = torch.stack([movies[id_to_index[i]] for i in ratings[:, 0]])\n",
    "        \n",
    "        state = films_lookup[:-1].to(cuda).float()\n",
    "        next_state = films_lookup[1:].to(cuda).float()\n",
    "        \n",
    "        rewards = torch.tensor(ratings[:, 1][:frame_size]).to(cuda).float()\n",
    "        next_rewards = torch.tensor(ratings[:, 1][1:frame_size+1]).to(cuda).float()\n",
    "        \n",
    "        action = films_lookup[-1].to(cuda)\n",
    "        \n",
    "        reward = torch.tensor(ratings[:, 1][-1].tolist()).to(cuda).float()\n",
    "        done = torch.tensor(idx == self.__len__() - 1).to(cuda).float()\n",
    "        \n",
    "        state = (state, rewards)\n",
    "        next_state = (next_state, next_rewards)\n",
    "        \n",
    "        return state, action, reward, next_state, done"
   ]
  },
  {
   "cell_type": "code",
   "execution_count": 4,
   "metadata": {},
   "outputs": [],
   "source": [
    "dset = ML20mDataset()"
   ]
  },
  {
   "cell_type": "code",
   "execution_count": 5,
   "metadata": {},
   "outputs": [],
   "source": [
    "class StateRepresentation(nn.Module):\n",
    "    def __init__(self, frame_size):\n",
    "        super(StateRepresentation, self).__init__()\n",
    "        self.frame_size = frame_size\n",
    "        self.state_lin = nn.Sequential(\n",
    "            # 33 = embed_size + rating\n",
    "            nn.Linear(self.frame_size * 33, 32),\n",
    "            nn.Tanh()\n",
    "        ).to(cuda)\n",
    "        \n",
    "    def forward(self, info, rewards):\n",
    "        rewards = torch.unsqueeze(rewards, 2)\n",
    "        state = torch.cat([info, rewards],2)\n",
    "        state = state.view(state.size(0), -1)\n",
    "        state = self.state_lin(state)\n",
    "        return state"
   ]
  },
  {
   "cell_type": "code",
   "execution_count": 6,
   "metadata": {},
   "outputs": [],
   "source": [
    "class Actor(nn.Module):\n",
    "    def __init__(self, num_inputs, num_actions, hidden_size, frame_size, init_w=3e-3):\n",
    "        super(Actor, self).__init__()\n",
    "        \n",
    "        self.frame_size = frame_size\n",
    "        self.state_rep = StateRepresentation(frame_size)\n",
    "        \n",
    "        self.linear1 = nn.Linear(num_inputs, hidden_size)\n",
    "        self.linear2 = nn.Linear(hidden_size, hidden_size)\n",
    "        self.linear3 = nn.Linear(hidden_size, num_actions)\n",
    "        \n",
    "        self.linear3.weight.data.uniform_(-init_w, init_w)\n",
    "        self.linear3.bias.data.uniform_(-init_w, init_w)\n",
    "        \n",
    "    def forward(self, info, rewards):\n",
    "        state = self.state_rep(info, rewards)\n",
    "        x = F.relu(self.linear1(state))\n",
    "        x = F.relu(self.linear2(x))\n",
    "        x = F.tanh(self.linear3(x))\n",
    "        return state, x\n",
    "    \n",
    "    def get_action(self, info, rewards):\n",
    "        state, action = self.forward(info, rewards)\n",
    "        return state, action"
   ]
  },
  {
   "cell_type": "code",
   "execution_count": 7,
   "metadata": {},
   "outputs": [],
   "source": [
    "class Critic(nn.Module):\n",
    "    def __init__(self, num_inputs, num_actions, hidden_size, init_w=3e-3):\n",
    "        super(Critic, self).__init__()\n",
    "        \n",
    "        self.linear1 = nn.Linear(num_inputs + num_actions, hidden_size)\n",
    "        self.linear2 = nn.Linear(hidden_size, hidden_size)\n",
    "        self.linear3 = nn.Linear(hidden_size, 1)\n",
    "        \n",
    "        self.linear3.weight.data.uniform_(-init_w, init_w)\n",
    "        self.linear3.bias.data.uniform_(-init_w, init_w)\n",
    "        \n",
    "    def forward(self, state, action):\n",
    "        action = torch.squeeze(action)\n",
    "        x = torch.cat([state, action], 1)\n",
    "        x = F.relu(self.linear1(x))\n",
    "        x = F.relu(self.linear2(x))\n",
    "        x = self.linear3(x)\n",
    "        return x"
   ]
  },
  {
   "cell_type": "code",
   "execution_count": 8,
   "metadata": {},
   "outputs": [],
   "source": [
    "class GaussianExploration(object):\n",
    "    def __init__(self, max_sigma=1.0, min_sigma=1.0, decay_period=1000000):\n",
    "        self.low  = -1\n",
    "        self.high = 1\n",
    "        self.max_sigma = max_sigma\n",
    "        self.min_sigma = min_sigma\n",
    "        self.decay_period = decay_period\n",
    "    \n",
    "    def get_action(self, action, t=0):\n",
    "        sigma  = self.max_sigma - (self.max_sigma - self.min_sigma) * min(1.0, t / self.decay_period)\n",
    "        action = action + np.random.normal(size=len(action)) * sigma\n",
    "        return np.clip(action, self.low, self.high)"
   ]
  },
  {
   "cell_type": "code",
   "execution_count": 9,
   "metadata": {},
   "outputs": [],
   "source": [
    "def soft_update(net, target_net, soft_tau=1e-2):\n",
    "    for target_param, param in zip(target_net.parameters(), net.parameters()):\n",
    "            target_param.data.copy_(\n",
    "                target_param.data * (1.0 - soft_tau) + param.data * soft_tau\n",
    "            )"
   ]
  },
  {
   "cell_type": "code",
   "execution_count": 10,
   "metadata": {},
   "outputs": [],
   "source": [
    "def td3_update(step,\n",
    "           batch,\n",
    "           gamma = 0.99,\n",
    "           soft_tau=1e-2,\n",
    "           noise_std = 0.2,\n",
    "           noise_clip=0.5,\n",
    "           policy_update=2,\n",
    "          ):\n",
    "\n",
    "    state, action, reward, next_state, done = batch\n",
    "    \n",
    "    reward     = reward.unsqueeze(1)\n",
    "    done       = done.unsqueeze(1)\n",
    "\n",
    "    enc_state = target_policy_net.state_rep(*state)\n",
    "    enc_next_state, next_action = target_policy_net(*next_state)\n",
    "    noise = torch.normal(torch.zeros(next_action.size()), noise_std).to(device)\n",
    "    noise = torch.clamp(noise, -noise_clip, noise_clip)\n",
    "    next_action += noise\n",
    "\n",
    "    target_q_value1  = target_value_net1(enc_next_state, next_action)\n",
    "    target_q_value2  = target_value_net2(enc_next_state, next_action)\n",
    "    target_q_value   = torch.min(target_q_value1, target_q_value2)\n",
    "    expected_q_value = reward + (1.0 - done) * gamma * target_q_value\n",
    "\n",
    "    q_value1 = value_net1(enc_state, action)\n",
    "    q_value2 = value_net2(enc_state, action)\n",
    "\n",
    "    value_loss1 = value_criterion(q_value1, expected_q_value.detach())\n",
    "    value_loss2 = value_criterion(q_value2, expected_q_value.detach())\n",
    "\n",
    "    value_optimizer1.zero_grad()\n",
    "    value_loss1.backward(retain_graph=True)\n",
    "    value_optimizer1.step()\n",
    "\n",
    "    value_optimizer2.zero_grad()\n",
    "    value_loss2.backward(retain_graph=True)\n",
    "    value_optimizer2.step()\n",
    "\n",
    "    if step % policy_update == 0:\n",
    "        policy_loss = value_net1(enc_state, policy_net(*state)[1])\n",
    "        policy_loss = -policy_loss.mean()\n",
    "\n",
    "        policy_optimizer.zero_grad()\n",
    "        policy_loss.backward()\n",
    "        policy_optimizer.step()\n",
    "\n",
    "        soft_update(value_net1, target_value_net1, soft_tau=soft_tau)\n",
    "        soft_update(value_net2, target_value_net2, soft_tau=soft_tau)\n",
    "        soft_update(policy_net, target_policy_net, soft_tau=soft_tau)\n",
    "        \n",
    "        return (value_loss1.item() + value_loss2.item())/2, policy_loss.item() \n",
    "    return False, False"
   ]
  },
  {
   "cell_type": "code",
   "execution_count": 11,
   "metadata": {},
   "outputs": [],
   "source": [
    "noise = GaussianExploration(32)\n",
    "\n",
    "\n",
    "value_net1 = Critic(32,32,64).to(cuda)\n",
    "value_net2 = Critic(32,32,64).to(cuda)\n",
    "policy_net = Actor(32, 32, 64, 10).to(cuda)\n",
    "\n",
    "target_value_net1 = Critic(32,32,64).to(cuda)\n",
    "target_value_net2 = Critic(32,32,64).to(cuda)\n",
    "target_policy_net = Actor(32, 32, 64, 10).to(cuda)\n",
    "\n",
    "soft_update(value_net1, target_value_net1, soft_tau=1.0)\n",
    "soft_update(value_net2, target_value_net2, soft_tau=1.0)\n",
    "soft_update(policy_net, target_policy_net, soft_tau=1.0)\n",
    "\n",
    "\n",
    "value_criterion = nn.MSELoss()\n",
    "\n",
    "policy_lr = 1e-4\n",
    "value_lr  = 1e-5\n",
    "\n",
    "value_optimizer1 = optim.Adam(value_net1.parameters(), lr=value_lr)\n",
    "value_optimizer2 = optim.Adam(value_net2.parameters(), lr=value_lr)\n",
    "policy_optimizer = optim.Adam(policy_net.parameters(), lr=policy_lr)"
   ]
  },
  {
   "cell_type": "code",
   "execution_count": 12,
   "metadata": {},
   "outputs": [
    {
     "data": {
      "application/vnd.jupyter.widget-view+json": {
       "model_id": "abc0bb48eef44c7a8b96cd463e246543",
       "version_major": 2,
       "version_minor": 0
      },
      "text/plain": [
       "HBox(children=(IntProgress(value=0, max=10000), HTML(value='')))"
      ]
     },
     "metadata": {},
     "output_type": "display_data"
    },
    {
     "name": "stderr",
     "output_type": "stream",
     "text": [
      "C:\\ProgramData\\Anaconda3\\lib\\site-packages\\torch\\nn\\functional.py:995: UserWarning: nn.functional.tanh is deprecated. Use torch.tanh instead.\n",
      "  warnings.warn(\"nn.functional.tanh is deprecated. Use torch.tanh instead.\")\n"
     ]
    },
    {
     "name": "stdout",
     "output_type": "stream",
     "text": [
      "\n"
     ]
    }
   ],
   "source": [
    "v_loss, p_loss = [], []\n",
    "\n",
    "b_size = 100\n",
    "step = 0\n",
    "\n",
    "def form_batch(batch_list):\n",
    "    b = []\n",
    "    for i in batch_list:\n",
    "        if isinstance(i[0], tuple):\n",
    "            b.append((\n",
    "                torch.stack([t[0] for t in i]).to(cuda),\n",
    "                torch.stack([t[1] for t in i]).to(cuda)\n",
    "            ))\n",
    "        else:\n",
    "            b.append(torch.stack(i).to(cuda))\n",
    "    return b\n",
    "\n",
    "current_batch = [[] for i in range(5)]\n",
    "\n",
    "for epoch in range(1):\n",
    "    for u in tqdm(users[:10000]):\n",
    "        dset.set_dataset(u)\n",
    "        for b in range(len(dset)):\n",
    "            if np.random.rand() > 0.2: #intake percents\n",
    "                continue\n",
    "            minibatch = dset[b]\n",
    "            [current_batch[i].append(minibatch[i]) for i in range(5)]\n",
    "            if len(current_batch[1]) >= b_size:\n",
    "                current_batch = form_batch(current_batch)\n",
    "                value_loss, policy_loss = td3_update(step, current_batch)\n",
    "                if value_loss:\n",
    "                    v_loss.append(value_loss)\n",
    "                    p_loss.append(policy_loss)\n",
    "                step += 1\n",
    "                current_batch = [[] for i in range(5)]"
   ]
  },
  {
   "cell_type": "code",
   "execution_count": 13,
   "metadata": {},
   "outputs": [
    {
     "data": {
      "text/plain": [
       "Text(0.5,1,'Policy loss')"
      ]
     },
     "execution_count": 13,
     "metadata": {},
     "output_type": "execute_result"
    },
    {
     "data": {
      "image/png": "[encoded data removed]",
      "text/plain": [
       "<Figure size 432x288 with 2 Axes>"
      ]
     },
     "metadata": {
      "needs_background": "light"
     },
     "output_type": "display_data"
    }
   ],
   "source": [
    "import matplotlib.pyplot as plt\n",
    "%matplotlib inline\n",
    "\n",
    "f, (ax1, ax2) = plt.subplots(1, 2)\n",
    "ax1.plot(range(len(v_loss)), v_loss)\n",
    "ax1.set_title('Value loss')\n",
    "ax2.plot(range(len(p_loss)), p_loss)\n",
    "ax2.set_title('Policy loss')"
   ]
  },
  {
   "cell_type": "code",
   "execution_count": 15,
   "metadata": {},
   "outputs": [],
   "source": [
    "torch.save(target_policy_net.state_dict(), \"../models/target_policy.pt\")\n",
    "torch.save(target_value_net1.state_dict(), \"../models/target_value1.pt\")\n",
    "torch.save(target_value_net2.state_dict(), \"../models/target_value2.pt\")"
   ]
  },
  {
   "cell_type": "code",
   "execution_count": 18,
   "metadata": {},
   "outputs": [
    {
     "data": {
      "text/plain": [
       "-1356137856.0"
      ]
     },
     "execution_count": 18,
     "metadata": {},
     "output_type": "execute_result"
    }
   ],
   "source": [
    "p_loss[-2]"
   ]
  },
  {
   "cell_type": "code",
   "execution_count": null,
   "metadata": {},
   "outputs": [],
   "source": []
  }
 ],
 "metadata": {
  "kernelspec": {
   "display_name": "Python 3",
   "language": "python",
   "name": "python3"
  },
  "language_info": {
   "codemirror_mode": {
    "name": "ipython",
    "version": 3
   },
   "file_extension": ".py",
   "mimetype": "text/x-python",
   "name": "python",
   "nbconvert_exporter": "python",
   "pygments_lexer": "ipython3",
   "version": "3.7.0"
  }
 },
 "nbformat": 4,
 "nbformat_minor": 2
}
